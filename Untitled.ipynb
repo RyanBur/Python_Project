{
 "cells": [
  {
   "cell_type": "code",
   "execution_count": 4,
   "id": "9f25c520",
   "metadata": {},
   "outputs": [],
   "source": [
    "import numpy as np\n",
    "import pandas as pd"
   ]
  },
  {
   "cell_type": "markdown",
   "id": "19b0e059",
   "metadata": {},
   "source": [
    "The json file is too large for me to read it into memory (6.7GB and I only have roughly 4GB available at any time), so I am reading it in chunks into separate .csv files. \n",
    "\n",
    "The plan is to inspect one of these .csv files and figure out what columns of information are unnecessary, and determine how to pare down the amount of information per review record before combining the data back into one set."
   ]
  },
  {
   "cell_type": "code",
   "execution_count": 5,
   "id": "db319809",
   "metadata": {},
   "outputs": [],
   "source": [
    "#yelp_df_iterator = pd.read_json(r'rough_data\\yelp_dataset\\yelp_academic_dataset_review.json', lines=True, chunksize=500000)"
   ]
  },
  {
   "cell_type": "code",
   "execution_count": 6,
   "id": "6365b4e0",
   "metadata": {},
   "outputs": [],
   "source": [
    "#No need to run this code again!\n",
    "\n",
    "# file_number = 1\n",
    "# for chunk in yelp_df_iterator:\n",
    "#     chunk.to_csv(f'rough_data\\yelp_dataset\\yelp_intermediate_{file_number}.csv', index=False)\n",
    "#     file_number +=1"
   ]
  },
  {
   "cell_type": "markdown",
   "id": "3f3d6b72",
   "metadata": {},
   "source": [
    "Now begins the data inspection\n"
   ]
  },
  {
   "cell_type": "code",
   "execution_count": null,
   "id": "db0433c7",
   "metadata": {},
   "outputs": [],
   "source": []
  },
  {
   "cell_type": "code",
   "execution_count": null,
   "id": "ecba8f49",
   "metadata": {},
   "outputs": [],
   "source": []
  },
  {
   "cell_type": "code",
   "execution_count": null,
   "id": "eeade7d4",
   "metadata": {},
   "outputs": [],
   "source": []
  }
 ],
 "metadata": {
  "kernelspec": {
   "display_name": "Python 3",
   "language": "python",
   "name": "python3"
  },
  "language_info": {
   "codemirror_mode": {
    "name": "ipython",
    "version": 3
   },
   "file_extension": ".py",
   "mimetype": "text/x-python",
   "name": "python",
   "nbconvert_exporter": "python",
   "pygments_lexer": "ipython3",
   "version": "3.8.8"
  }
 },
 "nbformat": 4,
 "nbformat_minor": 5
}
