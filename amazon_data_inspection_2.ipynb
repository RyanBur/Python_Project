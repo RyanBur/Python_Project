{
 "cells": [
  {
   "cell_type": "code",
   "execution_count": 1,
   "id": "af3cbf68",
   "metadata": {},
   "outputs": [],
   "source": [
    "import numpy as np\n",
    "import pandas as pd"
   ]
  },
  {
   "cell_type": "code",
   "execution_count": 2,
   "id": "91894df4",
   "metadata": {},
   "outputs": [
    {
     "data": {
      "text/html": [
       "<div>\n",
       "<style scoped>\n",
       "    .dataframe tbody tr th:only-of-type {\n",
       "        vertical-align: middle;\n",
       "    }\n",
       "\n",
       "    .dataframe tbody tr th {\n",
       "        vertical-align: top;\n",
       "    }\n",
       "\n",
       "    .dataframe thead th {\n",
       "        text-align: right;\n",
       "    }\n",
       "</style>\n",
       "<table border=\"1\" class=\"dataframe\">\n",
       "  <thead>\n",
       "    <tr style=\"text-align: right;\">\n",
       "      <th></th>\n",
       "      <th>item</th>\n",
       "      <th>rating</th>\n",
       "    </tr>\n",
       "  </thead>\n",
       "  <tbody>\n",
       "    <tr>\n",
       "      <th>0</th>\n",
       "      <td>0000000078</td>\n",
       "      <td>5.0</td>\n",
       "    </tr>\n",
       "    <tr>\n",
       "      <th>1</th>\n",
       "      <td>0000000116</td>\n",
       "      <td>4.0</td>\n",
       "    </tr>\n",
       "    <tr>\n",
       "      <th>2</th>\n",
       "      <td>0000000116</td>\n",
       "      <td>1.0</td>\n",
       "    </tr>\n",
       "    <tr>\n",
       "      <th>3</th>\n",
       "      <td>0000000868</td>\n",
       "      <td>4.0</td>\n",
       "    </tr>\n",
       "    <tr>\n",
       "      <th>4</th>\n",
       "      <td>0000013714</td>\n",
       "      <td>4.0</td>\n",
       "    </tr>\n",
       "    <tr>\n",
       "      <th>...</th>\n",
       "      <td>...</td>\n",
       "      <td>...</td>\n",
       "    </tr>\n",
       "    <tr>\n",
       "      <th>82677126</th>\n",
       "      <td>BT00IU6O8K</td>\n",
       "      <td>3.0</td>\n",
       "    </tr>\n",
       "    <tr>\n",
       "      <th>82677127</th>\n",
       "      <td>BT00IU6O8K</td>\n",
       "      <td>5.0</td>\n",
       "    </tr>\n",
       "    <tr>\n",
       "      <th>82677128</th>\n",
       "      <td>dp-g310/do</td>\n",
       "      <td>5.0</td>\n",
       "    </tr>\n",
       "    <tr>\n",
       "      <th>82677129</th>\n",
       "      <td>SMLRBIMX03</td>\n",
       "      <td>5.0</td>\n",
       "    </tr>\n",
       "    <tr>\n",
       "      <th>82677130</th>\n",
       "      <td>SMLRBIMX03</td>\n",
       "      <td>4.0</td>\n",
       "    </tr>\n",
       "  </tbody>\n",
       "</table>\n",
       "<p>82677131 rows × 2 columns</p>\n",
       "</div>"
      ],
      "text/plain": [
       "                item  rating\n",
       "0         0000000078     5.0\n",
       "1         0000000116     4.0\n",
       "2         0000000116     1.0\n",
       "3         0000000868     4.0\n",
       "4         0000013714     4.0\n",
       "...              ...     ...\n",
       "82677126  BT00IU6O8K     3.0\n",
       "82677127  BT00IU6O8K     5.0\n",
       "82677128  dp-g310/do     5.0\n",
       "82677129  SMLRBIMX03     5.0\n",
       "82677130  SMLRBIMX03     4.0\n",
       "\n",
       "[82677131 rows x 2 columns]"
      ]
     },
     "execution_count": 2,
     "metadata": {},
     "output_type": "execute_result"
    }
   ],
   "source": [
    "amzn_df = pd.read_csv(r'rough_data\\amazon_dataset\\amzn_all_items_simplified.csv')\n",
    "amzn_df"
   ]
  },
  {
   "cell_type": "code",
   "execution_count": 5,
   "id": "2df0d8aa",
   "metadata": {},
   "outputs": [],
   "source": [
    "item_review_counts = amzn_df['item'].value_counts()"
   ]
  },
  {
   "cell_type": "code",
   "execution_count": 15,
   "id": "60280c27",
   "metadata": {},
   "outputs": [
    {
     "data": {
      "text/plain": [
       "B0054JZC6E    25368\n",
       "B00FAPF5U0    24024\n",
       "B009UX2YAC    23956\n",
       "0439023483    21398\n",
       "030758836X    19867\n",
       "              ...  \n",
       "B009LRR7VI       25\n",
       "B004RPHRDM       25\n",
       "0897933990       25\n",
       "B009B98EHC       25\n",
       "B0009HBAS0       24\n",
       "Name: item, Length: 534900, dtype: int64"
      ]
     },
     "execution_count": 15,
     "metadata": {},
     "output_type": "execute_result"
    }
   ],
   "source": [
    "item_review_counts[:534900]"
   ]
  },
  {
   "cell_type": "markdown",
   "id": "7a0681da",
   "metadata": {},
   "source": [
    "Out of the 9.8M unique products in the dataset, 534,899 have 25+ reviews."
   ]
  },
  {
   "cell_type": "code",
   "execution_count": 36,
   "id": "e5b47e5b",
   "metadata": {},
   "outputs": [
    {
     "data": {
      "text/plain": [
       "B0054JZC6E    25368\n",
       "B00FAPF5U0    24024\n",
       "B009UX2YAC    23956\n",
       "0439023483    21398\n",
       "030758836X    19867\n",
       "              ...  \n",
       "B000OMYCXK       50\n",
       "0071361103       50\n",
       "1781163243       50\n",
       "B000A1HF7U       50\n",
       "B008AY8546       49\n",
       "Name: item, Length: 256228, dtype: int64"
      ]
     },
     "execution_count": 36,
     "metadata": {},
     "output_type": "execute_result"
    }
   ],
   "source": [
    "item_review_counts[:256228]"
   ]
  },
  {
   "cell_type": "markdown",
   "id": "301e9c62",
   "metadata": {},
   "source": [
    "256,227 Unique items have 50+ reviews."
   ]
  },
  {
   "cell_type": "code",
   "execution_count": 49,
   "id": "199eb1a6",
   "metadata": {},
   "outputs": [
    {
     "data": {
      "text/plain": [
       "B0054JZC6E    25368\n",
       "B00FAPF5U0    24024\n",
       "B009UX2YAC    23956\n",
       "0439023483    21398\n",
       "030758836X    19867\n",
       "              ...  \n",
       "6305094934      100\n",
       "6304308434      100\n",
       "B0051OKO42      100\n",
       "B000GB3ADC      100\n",
       "B00CX9K2FE       99\n",
       "Name: item, Length: 112988, dtype: int64"
      ]
     },
     "execution_count": 49,
     "metadata": {},
     "output_type": "execute_result"
    }
   ],
   "source": [
    "item_review_counts[:112988]"
   ]
  },
  {
   "cell_type": "markdown",
   "id": "e8a2b14e",
   "metadata": {},
   "source": [
    "112,987 Unique items have 100+ reviews. "
   ]
  },
  {
   "cell_type": "markdown",
   "id": "716faec4",
   "metadata": {},
   "source": [
    "### Discretionary Choice:\n",
    "Prior research indicates that only 5%-15% of reviews for an online service like Amazon are negative. In order to get less variance in the distributions simply based upon sample size, I am going to use a cutoff of 50 reviews or more in my initial sampling of the data. The goal here is to create a small subset of the data, run my analysis on the smaller, more manageable dataset, and then after having proof of concept generalizing it to the large dataset. I will choose 5,000 samples from the 112,987 items that have 100+ reviews. This will be my sample data, and will be saved into a .csv file.\n",
    "\n",
    "Update: This is not manageable for me. I need to search through the whole dataset to make sure I am getting all the reviews for each item, and with this method I am looping through 5,000 sample item numbers for 82M rows of reviews. I let the program run for about 10 minutes before realizing how bad this was. I will cut my sample size down to 500 items, and cut the number of lines my computer needs to run for creating this sample set by 90%. 8:09 start.  8:27 finish."
   ]
  },
  {
   "cell_type": "code",
   "execution_count": 57,
   "id": "27cdbda5",
   "metadata": {},
   "outputs": [],
   "source": [
    "large_reviews_item_list = list(item_review_counts[:256227].index)"
   ]
  },
  {
   "cell_type": "code",
   "execution_count": 65,
   "id": "076f1f45",
   "metadata": {},
   "outputs": [],
   "source": [
    "np.random.seed(1)\n",
    "sample_items = np.random.choice(large_reviews_item_list, 500, replace=False)"
   ]
  },
  {
   "cell_type": "code",
   "execution_count": 66,
   "id": "e6535021",
   "metadata": {
    "scrolled": true
   },
   "outputs": [
    {
     "name": "stdout",
     "output_type": "stream",
     "text": [
      "size of sample: 500\n"
     ]
    },
    {
     "data": {
      "text/plain": [
       "array(['B004DEQJSG', 'B0095VONZS', 'B008LFTCAK', '1451635524',\n",
       "       'B0000YRQB2', 'B005DD8KFG', 'B001GOZGIK', '0916708233',\n",
       "       'B00HSVEDYI', 'B003CGQOZ4', '1416549994', 'B0000532E0',\n",
       "       'B000IMLSQK', 'B0012R4XO4', '0374202028', 'B004Z01PVO',\n",
       "       '0446529117', 'B0002GZM00', 'B0088DOCTQ', 'B003YVTF30',\n",
       "       '0345425324', 'B005AKD836', '0143118765', 'B00ED2TGZ6',\n",
       "       'B00HEZ9UXW', '1599185156', '0446530220', 'B002SNIK4U',\n",
       "       'B00505DQ1K', 'B00004S1DU', 'B00091PMEO', 'B00AP7VGNI',\n",
       "       'B002YQQQJW', '0811714802', 'B005BYZ2YE', '6304196660',\n",
       "       'B00AE07932', '0763632643', 'B003Q6AG9K', 'B004LRO7DO',\n",
       "       'B009Y95U5S', 'B002YPZ85G', 'B00CORT57Q', 'B000AP04GK',\n",
       "       '0373835639', '0374199639', 'B002EE583E', 'B005EZMCGQ',\n",
       "       'B00FK1H0EI', 'B0010HA6A6', 'B000MMTNLS', 'B000MRCT5U',\n",
       "       'B000085EEI', 'B005UGIR36', 'B00FKSNX42', '145552297X',\n",
       "       'B000WBQOZW', 'B005MKZMVK', 'B000UPD8AO', '0307272761',\n",
       "       '0968601405', 'B005GUPUTA', 'B00000AFH2', 'B001H9N88Y',\n",
       "       '0953881024', 'B00FZ4KR4U', 'B001L1BM2W', 'B000FHGZW0',\n",
       "       'B003QS0E54', 'B0000DIWJF', '0312864876', 'B004WPZASG',\n",
       "       'B004R7FBH4', 'B00IE4EIW0', '159233539X', 'B001F7E9VI',\n",
       "       'B00016MSXU', 'B001UAEWSU', 'B00A0D4V7K', 'B005QT7ZBC',\n",
       "       'B008KZGTQG', 'B0075H5Q8M', 'B00535CWN0', '1467968102',\n",
       "       'B002RO75TQ', '0758258925', 'B00030B1GO', 'B00AJFHG8A',\n",
       "       'B00005RCR0', 'B006WXT8MK', '0696218526', 'B000021XRA',\n",
       "       'B005ZLB0E4', 'B001NTFATI', 'B00EQQNVQE', 'B004WF499W',\n",
       "       'B0054MAVXA', 'B007F5HTHK', 'B0007KQZWU', '1400204410',\n",
       "       '0374224242', 'B0006B46K8', 'B000FVDD30', 'B005Z26DWM',\n",
       "       'B0049JPU9Y', '1573447870', 'B0037UPER4', 'B004XWMXW4',\n",
       "       'B00A6CYPQM', 'B0055P70MQ', 'B003YV62CM', '149367000X',\n",
       "       'B001BBN4AU', '0486420701', 'B000VUYQYK', 'B000EXDRZI',\n",
       "       'B00HVHX11K', 'B000X22AF8', 'B00ARQW1E0', 'B000005Z0Z',\n",
       "       'B0070ZBI72', 'B007SNU13S', 'B00J5364J4', '0896895203',\n",
       "       'B00DZP1BZ0', 'B005IXWLGA', 'B002TM68OE', 'B007O0NLG4',\n",
       "       '0758284934', 'B009MKGRQA', 'B0022SMAEW', 'B004OA6CM2',\n",
       "       'B000063IMS', 'B0013FQ0XC', '1477529705', 'B000231D1K',\n",
       "       'B003BVK27Q', 'B000000H6D', 'B00F2GKNGI', '0544032101',\n",
       "       '0060721545', 'B002J9CTUO', '0345389417', 'B003YKG2W8',\n",
       "       'B00004WCIC', '0811868958', 'B001UEAJBU', '1850107297',\n",
       "       '0689847432', 'B0085MIGXS', 'B000FVVXG4', 'B0000CF5MT',\n",
       "       'B005C4WQS8', '0553584383', 'B008CMCIF8', 'B007XD4TCW',\n",
       "       'B009VNGP7Y', 'B007NKMOBI', 'B000P6GKOO', 'B00031XFL2',\n",
       "       'B000009CEO', 'B0030F5ND6', 'B00A686INO', 'B0018UXX46',\n",
       "       'B006WJ32AI', 'B0056UGNOQ', 'B0094V73QU', '0743287282',\n",
       "       '0824835921', 'B003VPW0V8', '1605294632', 'B000EZT6TW',\n",
       "       'B007UZ6RVO', '054700303X', '1442421762', 'B0090O07RS',\n",
       "       'B001OBTA2S', 'B0071HZ5LE', 'B0044R7I00', '006195828X',\n",
       "       '0842360565', 'B0028ZNX7M', 'B004G7D5GO', 'B0011GI94Q',\n",
       "       '084994371X', '1594863539', 'B0041D4U6C', 'B002OEBNM4',\n",
       "       'B002IPHIFA', 'B0081O0U2K', '0345491327', 'B000FVQYQ8',\n",
       "       'B008K6G8CK', '0689818629', 'B0002E1O2W', '6305310335',\n",
       "       'B00429S27I', 'B00BJW6AIE', 'B00973902K', '0451211936',\n",
       "       'B006O0CLOS', 'B0030ZRWW6', 'B004AGYMCW', 'B004S2W37O',\n",
       "       'B0036R8K10', 'B0009PURBI', 'B00BCUPLXI', 'B003KMCHTC',\n",
       "       'B004U92H1C', 'B001A3PZX8', 'B002ZG97F6', '0446527297',\n",
       "       'B005208J8S', '0240815513', 'B000BC8USQ', 'B000Y8EQ8K',\n",
       "       'B0065ANRXQ', 'B002WTN8QK', 'B004UQ0XLG', '0062069403',\n",
       "       'B004BOH6BM', 'B009CZO7W6', 'B002FYL7PG', 'B001EWEB5I',\n",
       "       'B004IPAC10', 'B004V90NWQ', 'B005J4TLN4', 'B00005LC4K',\n",
       "       '0451181689', 'B002DRLESA', '0684831546', 'B002C30S96',\n",
       "       '0739422707', 'B007FEFDCE', '1492177164', 'B008HE9PUC',\n",
       "       'B0026SGOCC', 'B00000ICEY', 'B004LLHMUK', 'B000WEMGWE',\n",
       "       'B002X3JLHU', 'B006Z48TZS', '043935806X', 'B000ZPJHJA',\n",
       "       '0470152524', '0553270222', 'B000S6N4BI', 'B00023KDAW',\n",
       "       'B000002GE1', '0756602610', 'B0080RVYXW', 'B0050435NU',\n",
       "       'B0019KMKAI', 'B00HQ4W1QE', 'B000EOEAW6', 'B005R4A09K',\n",
       "       'B000YM6FK8', '0988371804', 'B005DKKBTC', 'B00A05WQ0C',\n",
       "       'B001DQH50I', 'B000JLEYF2', 'B004XYJKHI', 'B000KUCQXY',\n",
       "       '1451682468', '1609280075', '0773386777', '0446523194',\n",
       "       'B00085DX0Q', 'B0036DDHRQ', '0143036777', 'B004KH4LAE',\n",
       "       'B000VU222S', 'B003IHGY2A', '0470891777', '0440207428',\n",
       "       '0984207015', '0615748260', '1400322316', '0767915593',\n",
       "       'B005MSY76S', '0811868117', 'B00EOGZ42U', 'B0007V6IWQ',\n",
       "       'B000089G5O', 'B00009J5VZ', 'B001CXAE0U', '1591840880',\n",
       "       'B001QJQGLQ', 'B005DMGHVQ', 'B005LW1HVI', 'B007IIT8KU',\n",
       "       'B005UIMPQO', 'B0026ICMZK', '1455865230', '1463553943',\n",
       "       'B0008G8G8Y', '6302822696', 'B0050SVGJG', '1583944974',\n",
       "       '0345536630', '041587291X', 'B0041XOHME', 'B000003BR4',\n",
       "       'B00A2RZDZI', 'B000J1BKZE', 'B00ILI95HW', 'B0018P38XM',\n",
       "       'B005JCS4TS', '1430216263', 'B008458JU6', '0385410956',\n",
       "       'B00ANJJB0S', 'B00005LVWL', 'B001M9OL5S', 'B0007NFMCG',\n",
       "       'B002718IE0', 'B0036RKKM2', 'B007UTJK9G', 'B002WBYDJE',\n",
       "       'B00004R9TN', 'B003GAJ67Y', 'B0000TWMDY', 'B00006IEJ6',\n",
       "       'B000IU3YFK', 'B0009TCJBK', 'B0002WZTJI', 'B0068XK7VK',\n",
       "       'B001GLUJIU', 'B00AVXA2SQ', '0399235795', 'B0038IUHV8',\n",
       "       'B002KKC2ZY', 'B00DQYOMJ2', 'B0027IVGOC', 'B008Q7IO3O',\n",
       "       '6301928555', 'B000B4WST6', 'B002KINCSW', 'B003SGUB5C',\n",
       "       'B001V7R5I6', 'B000B8URLI', 'B00GM5JGK2', 'B00175G7CM',\n",
       "       'B002B0KVFQ', '0307346676', 'B000LLI9G0', 'B0009QRRUG',\n",
       "       'B003YMS31Y', '039916927X', 'B0014HFVNE', 'B00H168ITQ',\n",
       "       'B006OBWTSA', 'B00C0ZKI9Q', 'B0026RHEBS', 'B000A7PAS0',\n",
       "       'B0007LXTMS', '0061834785', 'B009LIOFYY', '0984882081',\n",
       "       'B005UV0HAC', 'B00CTK762E', 'B001M5I4GO', 'B0074PFIKQ',\n",
       "       'B00120VWSQ', 'B00115PFOO', 'B000A3WS8O', 'B000J6DYJO',\n",
       "       'B006MNTRJY', '0262541157', 'B003N21THK', 'B002IWP7B0',\n",
       "       'B00GD3CHMM', 'B00CHQ7FTE', 'B0051938IG', '0977795349',\n",
       "       'B000F3DYUU', 'B004I1NDVK', 'B003U6HCGQ', 'B0000A0O28',\n",
       "       'B000054OXZ', 'B0001WAO5S', 'B0020ML75S', 'B009A9P1HO',\n",
       "       'B001JE1QU4', '0060959258', 'B00FIP4SLO', '0743238273',\n",
       "       'B0001A99LK', '1494876434', 'B001VJ0B0I', 'B00E6Z046K',\n",
       "       'B003TTQ4A4', 'B000FK9CBI', '1402288794', 'B008YJ7K2K',\n",
       "       'B0050SYV70', 'B001EBLQ70', 'B001GO09MI', 'B00BAWEFD0',\n",
       "       'B004Q0I2RS', 'B00CBXKGO4', 'B003F3NE1Q', 'B000URVDJU',\n",
       "       'B009T3AHW0', 'B000038I2L', 'B00DJ635R2', 'B001OI28CK',\n",
       "       'B0068GL31U', 'B0083F6WT2', 'B00B1XJFEW', 'B00BYQLG66',\n",
       "       'B001UGMTKC', '1412062292', '0375840397', 'B0037KM0XA',\n",
       "       'B0036OQWT0', 'B000TMFSWO', '1581806507', 'B009JZ09PI',\n",
       "       'B00004Y574', '0547054017', 'B001HBH1BM', '1888363932',\n",
       "       'B003K23QF6', 'B000FJA0HE', '0985207035', 'B00008DDXK',\n",
       "       'B0000CNR0E', 'B005VNK0BU', 'B007SUV5AO', 'B002PY6X1E',\n",
       "       'B005MZS03C', '1937733114', '0310335493', 'B0001YFAD2',\n",
       "       'B00005QZCS', 'B000PNS8MO', '0345517830', 'B003Z6HSL0',\n",
       "       'B000BIUH1I', '0062104187', 'B003YK3UVY', 'B0000AYL1I',\n",
       "       '1423114558', 'B000RL0TE4', 'B00032S0HK', 'B003DRD3PG',\n",
       "       '6305120021', 'B00BP45MBW', 'B008UZQWQ8', 'B0042AM4NU',\n",
       "       'B0002GL7ZO', 'B00A13EE08', 'B0002GYW4C', 'B000B5255M',\n",
       "       'B0062C96X2', 'B001AM9NMS', '6300247767', '1400200385',\n",
       "       'B001GJSMKE', '1414373287', 'B00DCNBST4', 'B002AQHLEU',\n",
       "       '1475018819', 'B00CV11X84', 'B00IBR189Q', 'B007OVHW2M',\n",
       "       '0375503048', '0743254554', 'B000C1ZFBG', 'B0091PBALS',\n",
       "       'B0016COPU2', '0767836359', 'B005MV99L8', 'B00AZNEVG6',\n",
       "       'B007DA05O6', 'B005OQFLM2', 'B00A9JG9W0', 'B005G80JB6',\n",
       "       'B0086BG8EW', '630243078X', '6301758641', 'B0043P0GRA',\n",
       "       'B009HNCUYK', 'B001GKKMPG', 'B002FU6NUE', '0385518684',\n",
       "       '0991073606', 'B0042ESGP6', '0615581927', 'B001Y7EAEU',\n",
       "       'B008AP09XA', 'B000AEJNE0', 'B007ML9A8I', '1597775401',\n",
       "       '1594488258', 'B008PQAB3C', '0767810856', 'B00GUNAJ66'],\n",
       "      dtype='<U10')"
      ]
     },
     "execution_count": 66,
     "metadata": {},
     "output_type": "execute_result"
    }
   ],
   "source": [
    "print('size of sample:',len(sample_items))\n",
    "sample_items"
   ]
  },
  {
   "cell_type": "code",
   "execution_count": 67,
   "id": "f23419a1",
   "metadata": {},
   "outputs": [],
   "source": [
    "sample_subset = amzn_df['item'].apply(lambda x: x in sample_items)\n",
    "sample_df = amzn_df[sample_subset]"
   ]
  },
  {
   "cell_type": "code",
   "execution_count": 68,
   "id": "0c2a485c",
   "metadata": {},
   "outputs": [
    {
     "data": {
      "text/html": [
       "<div>\n",
       "<style scoped>\n",
       "    .dataframe tbody tr th:only-of-type {\n",
       "        vertical-align: middle;\n",
       "    }\n",
       "\n",
       "    .dataframe tbody tr th {\n",
       "        vertical-align: top;\n",
       "    }\n",
       "\n",
       "    .dataframe thead th {\n",
       "        text-align: right;\n",
       "    }\n",
       "</style>\n",
       "<table border=\"1\" class=\"dataframe\">\n",
       "  <thead>\n",
       "    <tr style=\"text-align: right;\">\n",
       "      <th></th>\n",
       "      <th>item</th>\n",
       "      <th>rating</th>\n",
       "    </tr>\n",
       "  </thead>\n",
       "  <tbody>\n",
       "    <tr>\n",
       "      <th>344751</th>\n",
       "      <td>0060721545</td>\n",
       "      <td>5.0</td>\n",
       "    </tr>\n",
       "    <tr>\n",
       "      <th>344752</th>\n",
       "      <td>0060721545</td>\n",
       "      <td>2.0</td>\n",
       "    </tr>\n",
       "    <tr>\n",
       "      <th>344753</th>\n",
       "      <td>0060721545</td>\n",
       "      <td>2.0</td>\n",
       "    </tr>\n",
       "    <tr>\n",
       "      <th>344754</th>\n",
       "      <td>0060721545</td>\n",
       "      <td>1.0</td>\n",
       "    </tr>\n",
       "    <tr>\n",
       "      <th>344755</th>\n",
       "      <td>0060721545</td>\n",
       "      <td>3.0</td>\n",
       "    </tr>\n",
       "    <tr>\n",
       "      <th>...</th>\n",
       "      <td>...</td>\n",
       "      <td>...</td>\n",
       "    </tr>\n",
       "    <tr>\n",
       "      <th>82151670</th>\n",
       "      <td>B00J5364J4</td>\n",
       "      <td>4.0</td>\n",
       "    </tr>\n",
       "    <tr>\n",
       "      <th>82151671</th>\n",
       "      <td>B00J5364J4</td>\n",
       "      <td>5.0</td>\n",
       "    </tr>\n",
       "    <tr>\n",
       "      <th>82151672</th>\n",
       "      <td>B00J5364J4</td>\n",
       "      <td>1.0</td>\n",
       "    </tr>\n",
       "    <tr>\n",
       "      <th>82151673</th>\n",
       "      <td>B00J5364J4</td>\n",
       "      <td>5.0</td>\n",
       "    </tr>\n",
       "    <tr>\n",
       "      <th>82151674</th>\n",
       "      <td>B00J5364J4</td>\n",
       "      <td>5.0</td>\n",
       "    </tr>\n",
       "  </tbody>\n",
       "</table>\n",
       "<p>92409 rows × 2 columns</p>\n",
       "</div>"
      ],
      "text/plain": [
       "                item  rating\n",
       "344751    0060721545     5.0\n",
       "344752    0060721545     2.0\n",
       "344753    0060721545     2.0\n",
       "344754    0060721545     1.0\n",
       "344755    0060721545     3.0\n",
       "...              ...     ...\n",
       "82151670  B00J5364J4     4.0\n",
       "82151671  B00J5364J4     5.0\n",
       "82151672  B00J5364J4     1.0\n",
       "82151673  B00J5364J4     5.0\n",
       "82151674  B00J5364J4     5.0\n",
       "\n",
       "[92409 rows x 2 columns]"
      ]
     },
     "execution_count": 68,
     "metadata": {},
     "output_type": "execute_result"
    }
   ],
   "source": [
    "sample_df"
   ]
  },
  {
   "cell_type": "code",
   "execution_count": 71,
   "id": "b0e03dc3",
   "metadata": {},
   "outputs": [
    {
     "data": {
      "text/plain": [
       "043935806X    4683\n",
       "B006Z48TZS    3680\n",
       "B002AQHLEU    3128\n",
       "B008LFTCAK    2884\n",
       "B008K6G8CK    2375\n",
       "              ... \n",
       "B0074PFIKQ      50\n",
       "B0054MAVXA      50\n",
       "0615748260      50\n",
       "0345491327      50\n",
       "B0050435NU      50\n",
       "Name: item, Length: 500, dtype: int64"
      ]
     },
     "execution_count": 71,
     "metadata": {},
     "output_type": "execute_result"
    }
   ],
   "source": [
    "sample_df['item'].value_counts()"
   ]
  },
  {
   "cell_type": "code",
   "execution_count": 72,
   "id": "96ce4e5c",
   "metadata": {},
   "outputs": [
    {
     "data": {
      "text/plain": [
       "4.179592896795767"
      ]
     },
     "execution_count": 72,
     "metadata": {},
     "output_type": "execute_result"
    }
   ],
   "source": [
    "sample_df['rating'].mean()"
   ]
  },
  {
   "cell_type": "markdown",
   "id": "2c4427be",
   "metadata": {},
   "source": [
    "This sample_df is the dataset I will use for my initial analysis of the process. In fact, as a subset of 500 randomly drawn products with 50+ reviews, I think this would be enough for a project as is, but I do hope to be able to generalize my result to the larger dataset, and then compare other datasets to this one. \n",
    "\n",
    "Now that I have this smaller dataset, I will start analysis on the data."
   ]
  },
  {
   "cell_type": "code",
   "execution_count": 70,
   "id": "10afdb26",
   "metadata": {},
   "outputs": [],
   "source": [
    "sample_df.to_csv(r'rough_data\\amazon_dataset\\amzn_sample.csv', index=False)"
   ]
  }
 ],
 "metadata": {
  "kernelspec": {
   "display_name": "Python 3",
   "language": "python",
   "name": "python3"
  },
  "language_info": {
   "codemirror_mode": {
    "name": "ipython",
    "version": 3
   },
   "file_extension": ".py",
   "mimetype": "text/x-python",
   "name": "python",
   "nbconvert_exporter": "python",
   "pygments_lexer": "ipython3",
   "version": "3.8.8"
  }
 },
 "nbformat": 4,
 "nbformat_minor": 5
}
