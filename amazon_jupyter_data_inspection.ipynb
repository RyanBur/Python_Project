{
 "cells": [
  {
   "cell_type": "code",
   "execution_count": 1,
   "id": "25133498",
   "metadata": {},
   "outputs": [],
   "source": [
    "import numpy as np\n",
    "import pandas as pd"
   ]
  },
  {
   "cell_type": "code",
   "execution_count": 2,
   "id": "e8c82a58",
   "metadata": {},
   "outputs": [],
   "source": [
    "amazon_df = pd.read_csv(r'rough_data\\amazon_dataset\\amzn_all_items_reviews_dups_removed.csv', header=None)"
   ]
  },
  {
   "cell_type": "code",
   "execution_count": 3,
   "id": "c7c5d3db",
   "metadata": {},
   "outputs": [
    {
     "data": {
      "text/html": [
       "<div>\n",
       "<style scoped>\n",
       "    .dataframe tbody tr th:only-of-type {\n",
       "        vertical-align: middle;\n",
       "    }\n",
       "\n",
       "    .dataframe tbody tr th {\n",
       "        vertical-align: top;\n",
       "    }\n",
       "\n",
       "    .dataframe thead th {\n",
       "        text-align: right;\n",
       "    }\n",
       "</style>\n",
       "<table border=\"1\" class=\"dataframe\">\n",
       "  <thead>\n",
       "    <tr style=\"text-align: right;\">\n",
       "      <th></th>\n",
       "      <th>0</th>\n",
       "      <th>1</th>\n",
       "      <th>2</th>\n",
       "      <th>3</th>\n",
       "    </tr>\n",
       "  </thead>\n",
       "  <tbody>\n",
       "    <tr>\n",
       "      <th>0</th>\n",
       "      <td>A3AF8FFZAZYNE5</td>\n",
       "      <td>0000000078</td>\n",
       "      <td>5.0</td>\n",
       "      <td>1092182400</td>\n",
       "    </tr>\n",
       "    <tr>\n",
       "      <th>1</th>\n",
       "      <td>AH2L9G3DQHHAJ</td>\n",
       "      <td>0000000116</td>\n",
       "      <td>4.0</td>\n",
       "      <td>1019865600</td>\n",
       "    </tr>\n",
       "    <tr>\n",
       "      <th>2</th>\n",
       "      <td>A2IIIDRK3PRRZY</td>\n",
       "      <td>0000000116</td>\n",
       "      <td>1.0</td>\n",
       "      <td>1395619200</td>\n",
       "    </tr>\n",
       "    <tr>\n",
       "      <th>3</th>\n",
       "      <td>A1TADCM7YWPQ8M</td>\n",
       "      <td>0000000868</td>\n",
       "      <td>4.0</td>\n",
       "      <td>1031702400</td>\n",
       "    </tr>\n",
       "    <tr>\n",
       "      <th>4</th>\n",
       "      <td>AWGH7V0BDOJKB</td>\n",
       "      <td>0000013714</td>\n",
       "      <td>4.0</td>\n",
       "      <td>1383177600</td>\n",
       "    </tr>\n",
       "    <tr>\n",
       "      <th>...</th>\n",
       "      <td>...</td>\n",
       "      <td>...</td>\n",
       "      <td>...</td>\n",
       "      <td>...</td>\n",
       "    </tr>\n",
       "    <tr>\n",
       "      <th>82677126</th>\n",
       "      <td>A349MZLDSQAIQC</td>\n",
       "      <td>BT00IU6O8K</td>\n",
       "      <td>3.0</td>\n",
       "      <td>1375401600</td>\n",
       "    </tr>\n",
       "    <tr>\n",
       "      <th>82677127</th>\n",
       "      <td>A1NFN9O4A2Q92V</td>\n",
       "      <td>BT00IU6O8K</td>\n",
       "      <td>5.0</td>\n",
       "      <td>1375142400</td>\n",
       "    </tr>\n",
       "    <tr>\n",
       "      <th>82677128</th>\n",
       "      <td>A1DA2L6U0AFMLL</td>\n",
       "      <td>dp-g310/do</td>\n",
       "      <td>5.0</td>\n",
       "      <td>1195948800</td>\n",
       "    </tr>\n",
       "    <tr>\n",
       "      <th>82677129</th>\n",
       "      <td>AIDHT6KXOL64T</td>\n",
       "      <td>SMLRBIMX03</td>\n",
       "      <td>5.0</td>\n",
       "      <td>1355788800</td>\n",
       "    </tr>\n",
       "    <tr>\n",
       "      <th>82677130</th>\n",
       "      <td>A161I1MHX2G2BR</td>\n",
       "      <td>SMLRBIMX03</td>\n",
       "      <td>4.0</td>\n",
       "      <td>1364860800</td>\n",
       "    </tr>\n",
       "  </tbody>\n",
       "</table>\n",
       "<p>82677131 rows × 4 columns</p>\n",
       "</div>"
      ],
      "text/plain": [
       "                       0           1    2           3\n",
       "0         A3AF8FFZAZYNE5  0000000078  5.0  1092182400\n",
       "1          AH2L9G3DQHHAJ  0000000116  4.0  1019865600\n",
       "2         A2IIIDRK3PRRZY  0000000116  1.0  1395619200\n",
       "3         A1TADCM7YWPQ8M  0000000868  4.0  1031702400\n",
       "4          AWGH7V0BDOJKB  0000013714  4.0  1383177600\n",
       "...                  ...         ...  ...         ...\n",
       "82677126  A349MZLDSQAIQC  BT00IU6O8K  3.0  1375401600\n",
       "82677127  A1NFN9O4A2Q92V  BT00IU6O8K  5.0  1375142400\n",
       "82677128  A1DA2L6U0AFMLL  dp-g310/do  5.0  1195948800\n",
       "82677129   AIDHT6KXOL64T  SMLRBIMX03  5.0  1355788800\n",
       "82677130  A161I1MHX2G2BR  SMLRBIMX03  4.0  1364860800\n",
       "\n",
       "[82677131 rows x 4 columns]"
      ]
     },
     "execution_count": 3,
     "metadata": {},
     "output_type": "execute_result"
    }
   ],
   "source": [
    "amazon_df"
   ]
  },
  {
   "cell_type": "markdown",
   "id": "4edcd25a",
   "metadata": {},
   "source": [
    "This is a huge dataset, 82.6M rows! Thankfully the authors managed to reduce the columns in this version, the original with all review text and metadata was 20gb!"
   ]
  },
  {
   "cell_type": "code",
   "execution_count": 5,
   "id": "16578fb0",
   "metadata": {},
   "outputs": [
    {
     "data": {
      "text/html": [
       "<div>\n",
       "<style scoped>\n",
       "    .dataframe tbody tr th:only-of-type {\n",
       "        vertical-align: middle;\n",
       "    }\n",
       "\n",
       "    .dataframe tbody tr th {\n",
       "        vertical-align: top;\n",
       "    }\n",
       "\n",
       "    .dataframe thead th {\n",
       "        text-align: right;\n",
       "    }\n",
       "</style>\n",
       "<table border=\"1\" class=\"dataframe\">\n",
       "  <thead>\n",
       "    <tr style=\"text-align: right;\">\n",
       "      <th></th>\n",
       "      <th>user</th>\n",
       "      <th>item</th>\n",
       "      <th>rating</th>\n",
       "      <th>timestamp</th>\n",
       "    </tr>\n",
       "  </thead>\n",
       "  <tbody>\n",
       "    <tr>\n",
       "      <th>0</th>\n",
       "      <td>A3AF8FFZAZYNE5</td>\n",
       "      <td>0000000078</td>\n",
       "      <td>5.0</td>\n",
       "      <td>1092182400</td>\n",
       "    </tr>\n",
       "    <tr>\n",
       "      <th>1</th>\n",
       "      <td>AH2L9G3DQHHAJ</td>\n",
       "      <td>0000000116</td>\n",
       "      <td>4.0</td>\n",
       "      <td>1019865600</td>\n",
       "    </tr>\n",
       "    <tr>\n",
       "      <th>2</th>\n",
       "      <td>A2IIIDRK3PRRZY</td>\n",
       "      <td>0000000116</td>\n",
       "      <td>1.0</td>\n",
       "      <td>1395619200</td>\n",
       "    </tr>\n",
       "    <tr>\n",
       "      <th>3</th>\n",
       "      <td>A1TADCM7YWPQ8M</td>\n",
       "      <td>0000000868</td>\n",
       "      <td>4.0</td>\n",
       "      <td>1031702400</td>\n",
       "    </tr>\n",
       "    <tr>\n",
       "      <th>4</th>\n",
       "      <td>AWGH7V0BDOJKB</td>\n",
       "      <td>0000013714</td>\n",
       "      <td>4.0</td>\n",
       "      <td>1383177600</td>\n",
       "    </tr>\n",
       "    <tr>\n",
       "      <th>...</th>\n",
       "      <td>...</td>\n",
       "      <td>...</td>\n",
       "      <td>...</td>\n",
       "      <td>...</td>\n",
       "    </tr>\n",
       "    <tr>\n",
       "      <th>82677126</th>\n",
       "      <td>A349MZLDSQAIQC</td>\n",
       "      <td>BT00IU6O8K</td>\n",
       "      <td>3.0</td>\n",
       "      <td>1375401600</td>\n",
       "    </tr>\n",
       "    <tr>\n",
       "      <th>82677127</th>\n",
       "      <td>A1NFN9O4A2Q92V</td>\n",
       "      <td>BT00IU6O8K</td>\n",
       "      <td>5.0</td>\n",
       "      <td>1375142400</td>\n",
       "    </tr>\n",
       "    <tr>\n",
       "      <th>82677128</th>\n",
       "      <td>A1DA2L6U0AFMLL</td>\n",
       "      <td>dp-g310/do</td>\n",
       "      <td>5.0</td>\n",
       "      <td>1195948800</td>\n",
       "    </tr>\n",
       "    <tr>\n",
       "      <th>82677129</th>\n",
       "      <td>AIDHT6KXOL64T</td>\n",
       "      <td>SMLRBIMX03</td>\n",
       "      <td>5.0</td>\n",
       "      <td>1355788800</td>\n",
       "    </tr>\n",
       "    <tr>\n",
       "      <th>82677130</th>\n",
       "      <td>A161I1MHX2G2BR</td>\n",
       "      <td>SMLRBIMX03</td>\n",
       "      <td>4.0</td>\n",
       "      <td>1364860800</td>\n",
       "    </tr>\n",
       "  </tbody>\n",
       "</table>\n",
       "<p>82677131 rows × 4 columns</p>\n",
       "</div>"
      ],
      "text/plain": [
       "                    user        item  rating   timestamp\n",
       "0         A3AF8FFZAZYNE5  0000000078     5.0  1092182400\n",
       "1          AH2L9G3DQHHAJ  0000000116     4.0  1019865600\n",
       "2         A2IIIDRK3PRRZY  0000000116     1.0  1395619200\n",
       "3         A1TADCM7YWPQ8M  0000000868     4.0  1031702400\n",
       "4          AWGH7V0BDOJKB  0000013714     4.0  1383177600\n",
       "...                  ...         ...     ...         ...\n",
       "82677126  A349MZLDSQAIQC  BT00IU6O8K     3.0  1375401600\n",
       "82677127  A1NFN9O4A2Q92V  BT00IU6O8K     5.0  1375142400\n",
       "82677128  A1DA2L6U0AFMLL  dp-g310/do     5.0  1195948800\n",
       "82677129   AIDHT6KXOL64T  SMLRBIMX03     5.0  1355788800\n",
       "82677130  A161I1MHX2G2BR  SMLRBIMX03     4.0  1364860800\n",
       "\n",
       "[82677131 rows x 4 columns]"
      ]
     },
     "execution_count": 5,
     "metadata": {},
     "output_type": "execute_result"
    }
   ],
   "source": [
    "amazon_df.columns = ['user', 'item', 'rating', 'timestamp']\n",
    "amazon_df"
   ]
  },
  {
   "cell_type": "code",
   "execution_count": 6,
   "id": "15e1815e",
   "metadata": {},
   "outputs": [
    {
     "data": {
      "text/plain": [
       "A14OJS0VWMOSWO    44557\n",
       "AFVQZQ8PW0L       29044\n",
       "A328S9RN3U5M68     9773\n",
       "A9Q28YTLYREO7      9243\n",
       "A2EDZH51XHFA9B     6431\n",
       "                  ...  \n",
       "A1XI67YEJNA6WK        1\n",
       "A3GEDU3AJXFIRS        1\n",
       "A3FJ134CQ53ARF        1\n",
       "ASIOBI8B1Q7OE         1\n",
       "AQCNH5KG3W1SW         1\n",
       "Name: user, Length: 21176522, dtype: int64"
      ]
     },
     "execution_count": 6,
     "metadata": {},
     "output_type": "execute_result"
    }
   ],
   "source": [
    "amazon_df['user'].value_counts()"
   ]
  },
  {
   "cell_type": "markdown",
   "id": "39e0d2c2",
   "metadata": {},
   "source": [
    "There are 21,176,522 different users who wrote reviews in this dataset."
   ]
  },
  {
   "cell_type": "code",
   "execution_count": 7,
   "id": "975d9d1d",
   "metadata": {},
   "outputs": [
    {
     "data": {
      "text/plain": [
       "B0054JZC6E    25368\n",
       "B00FAPF5U0    24024\n",
       "B009UX2YAC    23956\n",
       "0439023483    21398\n",
       "030758836X    19867\n",
       "              ...  \n",
       "1561640972        1\n",
       "B0000015IQ        1\n",
       "B0019GO1JU        1\n",
       "B00CBO4S92        1\n",
       "B001RLZ6Y6        1\n",
       "Name: item, Length: 9874211, dtype: int64"
      ]
     },
     "execution_count": 7,
     "metadata": {},
     "output_type": "execute_result"
    }
   ],
   "source": [
    "amazon_df['item'].value_counts()"
   ]
  },
  {
   "cell_type": "markdown",
   "id": "3e90cbd0",
   "metadata": {},
   "source": [
    "There are 9,874,211 unique products represented in this dataset"
   ]
  },
  {
   "cell_type": "code",
   "execution_count": 8,
   "id": "63a0ea32",
   "metadata": {},
   "outputs": [],
   "source": [
    "amazon_df[['item','rating']].to_csv(r'rough_data\\amazon_dataset\\amzn_all_items_simplified.csv', index=False)"
   ]
  },
  {
   "cell_type": "markdown",
   "id": "49dbebb1",
   "metadata": {},
   "source": [
    "I created a new .csv file for the combined data, named 'amzn_all_items_simplified.csv', where I got rid of unneeded columns. This will make the data much more useable on my computer. Future work will be done with that file"
   ]
  }
 ],
 "metadata": {
  "kernelspec": {
   "display_name": "Python 3",
   "language": "python",
   "name": "python3"
  },
  "language_info": {
   "codemirror_mode": {
    "name": "ipython",
    "version": 3
   },
   "file_extension": ".py",
   "mimetype": "text/x-python",
   "name": "python",
   "nbconvert_exporter": "python",
   "pygments_lexer": "ipython3",
   "version": "3.8.8"
  }
 },
 "nbformat": 4,
 "nbformat_minor": 5
}
