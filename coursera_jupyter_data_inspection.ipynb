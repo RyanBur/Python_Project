{
 "cells": [
  {
   "cell_type": "code",
   "execution_count": 1,
   "id": "1459cd48",
   "metadata": {},
   "outputs": [],
   "source": [
    "import numpy as np\n",
    "import pandas as pd"
   ]
  },
  {
   "cell_type": "code",
   "execution_count": 2,
   "id": "5c906a5d",
   "metadata": {},
   "outputs": [],
   "source": [
    "coursera_df = pd.read_csv(r'rough_data\\coursera_1.5m_reviews\\coursera_reviews.csv')"
   ]
  },
  {
   "cell_type": "code",
   "execution_count": 3,
   "id": "da6797da",
   "metadata": {
    "scrolled": true
   },
   "outputs": [
    {
     "data": {
      "text/html": [
       "<div>\n",
       "<style scoped>\n",
       "    .dataframe tbody tr th:only-of-type {\n",
       "        vertical-align: middle;\n",
       "    }\n",
       "\n",
       "    .dataframe tbody tr th {\n",
       "        vertical-align: top;\n",
       "    }\n",
       "\n",
       "    .dataframe thead th {\n",
       "        text-align: right;\n",
       "    }\n",
       "</style>\n",
       "<table border=\"1\" class=\"dataframe\">\n",
       "  <thead>\n",
       "    <tr style=\"text-align: right;\">\n",
       "      <th></th>\n",
       "      <th>reviews</th>\n",
       "      <th>reviewers</th>\n",
       "      <th>date_reviews</th>\n",
       "      <th>rating</th>\n",
       "      <th>course_id</th>\n",
       "    </tr>\n",
       "  </thead>\n",
       "  <tbody>\n",
       "    <tr>\n",
       "      <th>0</th>\n",
       "      <td>Pretty dry, but I was able to pass with just t...</td>\n",
       "      <td>By Robert S</td>\n",
       "      <td>Feb 12, 2020</td>\n",
       "      <td>4</td>\n",
       "      <td>google-cbrs-cpi-training</td>\n",
       "    </tr>\n",
       "    <tr>\n",
       "      <th>1</th>\n",
       "      <td>would be a better experience if the video and ...</td>\n",
       "      <td>By Gabriel E R</td>\n",
       "      <td>Sep 28, 2020</td>\n",
       "      <td>4</td>\n",
       "      <td>google-cbrs-cpi-training</td>\n",
       "    </tr>\n",
       "    <tr>\n",
       "      <th>2</th>\n",
       "      <td>Information was perfect! The program itself wa...</td>\n",
       "      <td>By Jacob D</td>\n",
       "      <td>Apr 08, 2020</td>\n",
       "      <td>4</td>\n",
       "      <td>google-cbrs-cpi-training</td>\n",
       "    </tr>\n",
       "    <tr>\n",
       "      <th>3</th>\n",
       "      <td>A few grammatical mistakes on test made me do ...</td>\n",
       "      <td>By Dale B</td>\n",
       "      <td>Feb 24, 2020</td>\n",
       "      <td>4</td>\n",
       "      <td>google-cbrs-cpi-training</td>\n",
       "    </tr>\n",
       "    <tr>\n",
       "      <th>4</th>\n",
       "      <td>Excellent course and the training provided was...</td>\n",
       "      <td>By Sean G</td>\n",
       "      <td>Jun 18, 2020</td>\n",
       "      <td>4</td>\n",
       "      <td>google-cbrs-cpi-training</td>\n",
       "    </tr>\n",
       "    <tr>\n",
       "      <th>...</th>\n",
       "      <td>...</td>\n",
       "      <td>...</td>\n",
       "      <td>...</td>\n",
       "      <td>...</td>\n",
       "      <td>...</td>\n",
       "    </tr>\n",
       "    <tr>\n",
       "      <th>1454706</th>\n",
       "      <td>g</td>\n",
       "      <td>By Brijesh K</td>\n",
       "      <td>Aug 25, 2020</td>\n",
       "      <td>5</td>\n",
       "      <td>computer-networking</td>\n",
       "    </tr>\n",
       "    <tr>\n",
       "      <th>1454707</th>\n",
       "      <td>.</td>\n",
       "      <td>By Vasavi V M</td>\n",
       "      <td>Jul 02, 2020</td>\n",
       "      <td>5</td>\n",
       "      <td>computer-networking</td>\n",
       "    </tr>\n",
       "    <tr>\n",
       "      <th>1454708</th>\n",
       "      <td>.</td>\n",
       "      <td>By Drishti D</td>\n",
       "      <td>Jun 20, 2020</td>\n",
       "      <td>5</td>\n",
       "      <td>computer-networking</td>\n",
       "    </tr>\n",
       "    <tr>\n",
       "      <th>1454709</th>\n",
       "      <td>.</td>\n",
       "      <td>By FAUSTINE F K</td>\n",
       "      <td>Jun 07, 2020</td>\n",
       "      <td>5</td>\n",
       "      <td>computer-networking</td>\n",
       "    </tr>\n",
       "    <tr>\n",
       "      <th>1454710</th>\n",
       "      <td>G</td>\n",
       "      <td>By Reza S</td>\n",
       "      <td>Aug 12, 2018</td>\n",
       "      <td>5</td>\n",
       "      <td>computer-networking</td>\n",
       "    </tr>\n",
       "  </tbody>\n",
       "</table>\n",
       "<p>1454711 rows × 5 columns</p>\n",
       "</div>"
      ],
      "text/plain": [
       "                                                   reviews        reviewers  \\\n",
       "0        Pretty dry, but I was able to pass with just t...      By Robert S   \n",
       "1        would be a better experience if the video and ...   By Gabriel E R   \n",
       "2        Information was perfect! The program itself wa...       By Jacob D   \n",
       "3        A few grammatical mistakes on test made me do ...        By Dale B   \n",
       "4        Excellent course and the training provided was...        By Sean G   \n",
       "...                                                    ...              ...   \n",
       "1454706                                                  g     By Brijesh K   \n",
       "1454707                                                  .    By Vasavi V M   \n",
       "1454708                                                  .     By Drishti D   \n",
       "1454709                                                  .  By FAUSTINE F K   \n",
       "1454710                                                  G        By Reza S   \n",
       "\n",
       "         date_reviews  rating                 course_id  \n",
       "0        Feb 12, 2020       4  google-cbrs-cpi-training  \n",
       "1        Sep 28, 2020       4  google-cbrs-cpi-training  \n",
       "2        Apr 08, 2020       4  google-cbrs-cpi-training  \n",
       "3        Feb 24, 2020       4  google-cbrs-cpi-training  \n",
       "4        Jun 18, 2020       4  google-cbrs-cpi-training  \n",
       "...               ...     ...                       ...  \n",
       "1454706  Aug 25, 2020       5       computer-networking  \n",
       "1454707  Jul 02, 2020       5       computer-networking  \n",
       "1454708  Jun 20, 2020       5       computer-networking  \n",
       "1454709  Jun 07, 2020       5       computer-networking  \n",
       "1454710  Aug 12, 2018       5       computer-networking  \n",
       "\n",
       "[1454711 rows x 5 columns]"
      ]
     },
     "execution_count": 3,
     "metadata": {},
     "output_type": "execute_result"
    }
   ],
   "source": [
    "coursera_df"
   ]
  },
  {
   "cell_type": "code",
   "execution_count": 5,
   "id": "16fd1495",
   "metadata": {},
   "outputs": [
    {
     "data": {
      "text/plain": [
       "python                                        45218\n",
       "machine-learning                              35895\n",
       "neural-networks-deep-learning                 35750\n",
       "technical-support-fundamentals                35319\n",
       "python-data                                   33546\n",
       "                                              ...  \n",
       "entreprise-changement-climatique                  6\n",
       "social-economic-networks                          6\n",
       "curanderismo-plants                               6\n",
       "intro-to-healthcare                               6\n",
       "building-modern-python-applications-on-aws        3\n",
       "Name: course_id, Length: 604, dtype: int64"
      ]
     },
     "execution_count": 5,
     "metadata": {},
     "output_type": "execute_result"
    }
   ],
   "source": [
    "coursera_df['course_id'].value_counts()"
   ]
  },
  {
   "cell_type": "markdown",
   "id": "85205393",
   "metadata": {},
   "source": [
    "604 Unique courses in the dataset with 1,454,711 total reviews."
   ]
  },
  {
   "cell_type": "code",
   "execution_count": 8,
   "id": "efbf3d25",
   "metadata": {
    "scrolled": true
   },
   "outputs": [
    {
     "data": {
      "text/plain": [
       "python                              45218\n",
       "machine-learning                    35895\n",
       "neural-networks-deep-learning       35750\n",
       "technical-support-fundamentals      35319\n",
       "python-data                         33546\n",
       "                                    ...  \n",
       "attention-models-in-nlp                49\n",
       "project-execution                      42\n",
       "healthcarejobs                         33\n",
       "finance-fundamentals                   27\n",
       "accounting-data-analytics-python       24\n",
       "Name: course_id, Length: 590, dtype: int64"
      ]
     },
     "execution_count": 8,
     "metadata": {},
     "output_type": "execute_result"
    }
   ],
   "source": [
    "coursera_df['course_id'].value_counts()[:590]"
   ]
  },
  {
   "cell_type": "markdown",
   "id": "a89d57c1",
   "metadata": {},
   "source": [
    "589 Courses that have 25+ reviews."
   ]
  },
  {
   "cell_type": "code",
   "execution_count": 12,
   "id": "d1fb7f13",
   "metadata": {},
   "outputs": [
    {
     "data": {
      "text/plain": [
       "python                            45218\n",
       "machine-learning                  35895\n",
       "neural-networks-deep-learning     35750\n",
       "technical-support-fundamentals    35319\n",
       "python-data                       33546\n",
       "                                  ...  \n",
       "project-planning-1                   60\n",
       "introduction-to-data-analytics       54\n",
       "community-organizing                 54\n",
       "write-your-first-novel               52\n",
       "attention-models-in-nlp              49\n",
       "Name: course_id, Length: 586, dtype: int64"
      ]
     },
     "execution_count": 12,
     "metadata": {},
     "output_type": "execute_result"
    }
   ],
   "source": [
    "coursera_df['course_id'].value_counts()[:586]"
   ]
  },
  {
   "cell_type": "markdown",
   "id": "2192557a",
   "metadata": {},
   "source": [
    "585 Courses that have 50+ reviews"
   ]
  },
  {
   "cell_type": "code",
   "execution_count": 15,
   "id": "83cd9683",
   "metadata": {},
   "outputs": [
    {
     "data": {
      "text/plain": [
       "python                                                        45218\n",
       "machine-learning                                              35895\n",
       "neural-networks-deep-learning                                 35750\n",
       "technical-support-fundamentals                                35319\n",
       "python-data                                                   33546\n",
       "                                                              ...  \n",
       "mastering-final-cut-pro                                         109\n",
       "antibiotic-stewardship                                          107\n",
       "project-management                                              106\n",
       "introduction-to-computers-and-office-productivity-software      105\n",
       "enterprise-architecture                                          99\n",
       "Name: course_id, Length: 570, dtype: int64"
      ]
     },
     "execution_count": 15,
     "metadata": {},
     "output_type": "execute_result"
    }
   ],
   "source": [
    "coursera_df['course_id'].value_counts()[:570]\n",
    "                                       "
   ]
  },
  {
   "cell_type": "markdown",
   "id": "ac170a89",
   "metadata": {},
   "source": [
    "569 Courses that have 100+ reviews."
   ]
  },
  {
   "cell_type": "code",
   "execution_count": 17,
   "id": "79078935",
   "metadata": {},
   "outputs": [
    {
     "data": {
      "text/plain": [
       "4.696649025132827"
      ]
     },
     "execution_count": 17,
     "metadata": {},
     "output_type": "execute_result"
    }
   ],
   "source": [
    "coursera_df['rating'].mean()"
   ]
  },
  {
   "cell_type": "markdown",
   "id": "41f13a9b",
   "metadata": {},
   "source": [
    "Average value for a rating is 4.7 / 5. Note: This is not per course."
   ]
  }
 ],
 "metadata": {
  "kernelspec": {
   "display_name": "Python 3",
   "language": "python",
   "name": "python3"
  },
  "language_info": {
   "codemirror_mode": {
    "name": "ipython",
    "version": 3
   },
   "file_extension": ".py",
   "mimetype": "text/x-python",
   "name": "python",
   "nbconvert_exporter": "python",
   "pygments_lexer": "ipython3",
   "version": "3.8.8"
  }
 },
 "nbformat": 4,
 "nbformat_minor": 5
}
